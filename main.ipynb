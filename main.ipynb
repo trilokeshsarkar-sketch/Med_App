{
 "cells": [
  {
   "cell_type": "code",
   "execution_count": 3,
   "id": "0c94739a",
   "metadata": {},
   "outputs": [
    {
     "name": "stdout",
     "output_type": "stream",
     "text": [
      "Note: you may need to restart the kernel to use updated packages.\n"
     ]
    },
    {
     "name": "stderr",
     "output_type": "stream",
     "text": [
      "  WARNING: The scripts csv2rdf.exe, rdf2dot.exe, rdfgraphisomorphism.exe, rdfpipe.exe and rdfs2dot.exe are installed in 'C:\\Users\\trilo\\AppData\\Roaming\\Python\\Python313\\Scripts' which is not on PATH.\n",
      "  Consider adding this directory to PATH or, if you prefer to suppress this warning, use --no-warn-script-location.\n",
      "  WARNING: The script pytesseract.exe is installed in 'C:\\Users\\trilo\\AppData\\Roaming\\Python\\Python313\\Scripts' which is not on PATH.\n",
      "  Consider adding this directory to PATH or, if you prefer to suppress this warning, use --no-warn-script-location.\n",
      "  WARNING: The scripts nib-conform.exe, nib-convert.exe, nib-dicomfs.exe, nib-diff.exe, nib-ls.exe, nib-nifti-dx.exe, nib-roi.exe, nib-stats.exe, nib-tck2trk.exe, nib-trk2tck.exe and parrec2nii.exe are installed in 'C:\\Users\\trilo\\AppData\\Roaming\\Python\\Python313\\Scripts' which is not on PATH.\n",
      "  Consider adding this directory to PATH or, if you prefer to suppress this warning, use --no-warn-script-location.\n",
      "  WARNING: The scripts prov-compare.exe and prov-convert.exe are installed in 'C:\\Users\\trilo\\AppData\\Roaming\\Python\\Python313\\Scripts' which is not on PATH.\n",
      "  Consider adding this directory to PATH or, if you prefer to suppress this warning, use --no-warn-script-location.\n",
      "  WARNING: The script nipypecli.exe is installed in 'C:\\Users\\trilo\\AppData\\Roaming\\Python\\Python313\\Scripts' which is not on PATH.\n",
      "  Consider adding this directory to PATH or, if you prefer to suppress this warning, use --no-warn-script-location.\n"
     ]
    }
   ],
   "source": [
    "%pip install fitz pytesseract   -q"
   ]
  },
  {
   "cell_type": "code",
   "execution_count": 4,
   "id": "ef7e1014",
   "metadata": {},
   "outputs": [
    {
     "name": "stdout",
     "output_type": "stream",
     "text": [
      "Note: you may need to restart the kernel to use updated packages.\n"
     ]
    },
    {
     "name": "stderr",
     "output_type": "stream",
     "text": [
      "  WARNING: The script uvicorn.exe is installed in 'C:\\Users\\trilo\\AppData\\Roaming\\Python\\Python313\\Scripts' which is not on PATH.\n",
      "  Consider adding this directory to PATH or, if you prefer to suppress this warning, use --no-warn-script-location.\n"
     ]
    }
   ],
   "source": [
    "%pip install frontend -q"
   ]
  },
  {
   "cell_type": "code",
   "execution_count": 1,
   "id": "367bca29",
   "metadata": {},
   "outputs": [
    {
     "name": "stderr",
     "output_type": "stream",
     "text": [
      "2025-09-15 22:49:27.912 WARNING streamlit.runtime.scriptrunner_utils.script_run_context: Thread 'MainThread': missing ScriptRunContext! This warning can be ignored when running in bare mode.\n",
      "2025-09-15 22:49:27.913 WARNING streamlit.runtime.scriptrunner_utils.script_run_context: Thread 'MainThread': missing ScriptRunContext! This warning can be ignored when running in bare mode.\n",
      "2025-09-15 22:49:28.500 \n",
      "  \u001b[33m\u001b[1mWarning:\u001b[0m to view this Streamlit app on a browser, run it with the following\n",
      "  command:\n",
      "\n",
      "    streamlit run c:\\ProgramData\\anaconda3\\Lib\\site-packages\\ipykernel_launcher.py [ARGUMENTS]\n",
      "2025-09-15 22:49:28.501 Thread 'MainThread': missing ScriptRunContext! This warning can be ignored when running in bare mode.\n",
      "2025-09-15 22:49:28.502 Thread 'MainThread': missing ScriptRunContext! This warning can be ignored when running in bare mode.\n",
      "2025-09-15 22:49:28.503 Thread 'MainThread': missing ScriptRunContext! This warning can be ignored when running in bare mode.\n",
      "2025-09-15 22:49:28.504 Thread 'MainThread': missing ScriptRunContext! This warning can be ignored when running in bare mode.\n",
      "2025-09-15 22:49:28.506 Thread 'MainThread': missing ScriptRunContext! This warning can be ignored when running in bare mode.\n",
      "2025-09-15 22:49:28.507 Thread 'MainThread': missing ScriptRunContext! This warning can be ignored when running in bare mode.\n",
      "2025-09-15 22:49:28.508 Thread 'MainThread': missing ScriptRunContext! This warning can be ignored when running in bare mode.\n",
      "2025-09-15 22:49:28.508 Session state does not function when running a script without `streamlit run`\n",
      "2025-09-15 22:49:28.509 Thread 'MainThread': missing ScriptRunContext! This warning can be ignored when running in bare mode.\n",
      "2025-09-15 22:49:28.510 Thread 'MainThread': missing ScriptRunContext! This warning can be ignored when running in bare mode.\n",
      "2025-09-15 22:49:28.511 Thread 'MainThread': missing ScriptRunContext! This warning can be ignored when running in bare mode.\n",
      "2025-09-15 22:49:28.512 Thread 'MainThread': missing ScriptRunContext! This warning can be ignored when running in bare mode.\n",
      "2025-09-15 22:49:28.513 Thread 'MainThread': missing ScriptRunContext! This warning can be ignored when running in bare mode.\n",
      "2025-09-15 22:49:28.514 Thread 'MainThread': missing ScriptRunContext! This warning can be ignored when running in bare mode.\n",
      "2025-09-15 22:49:28.514 Thread 'MainThread': missing ScriptRunContext! This warning can be ignored when running in bare mode.\n"
     ]
    }
   ],
   "source": [
    "# app.py\n",
    "\n",
    "import os\n",
    "import requests\n",
    "import json\n",
    "import re\n",
    "from datetime import datetime\n",
    "from PIL import Image\n",
    "import pytesseract\n",
    "import fitz  # PyMuPDF for PDF handling\n",
    "import io\n",
    "import streamlit as st\n",
    "\n",
    "\n",
    "# =========================\n",
    "# OCR + Analysis Processor\n",
    "# =========================\n",
    "class MedicalOCRProcessor:\n",
    "    def __init__(self, api_key):\n",
    "        # API settings\n",
    "        self.api_url = \"https://openrouter.ai/api/v1/chat/completions\"\n",
    "        self.model = \"openai/gpt-oss-20b:free\"\n",
    "        self.api_key = api_key\n",
    "\n",
    "    def clean_text(self, text):\n",
    "        if text is None:\n",
    "            return \"\"\n",
    "        return re.sub(r'[\\x00-\\x1F]+', ' ', text)\n",
    "\n",
    "    def pdf_to_images(self, pdf_bytes):\n",
    "        \"\"\"Convert uploaded PDF to images\"\"\"\n",
    "        images = []\n",
    "        try:\n",
    "            pdf_document = fitz.open(\"pdf\", pdf_bytes)\n",
    "            for page_num in range(len(pdf_document)):\n",
    "                page = pdf_document.load_page(page_num)\n",
    "                mat = fitz.Matrix(300 / 72, 300 / 72)  # 300 DPI\n",
    "                pix = page.get_pixmap(matrix=mat)\n",
    "                img_data = pix.tobytes(\"ppm\")\n",
    "                img = Image.open(io.BytesIO(img_data))\n",
    "                if img.mode != 'RGB':\n",
    "                    img = img.convert('RGB')\n",
    "                images.append(img)\n",
    "            pdf_document.close()\n",
    "            return images\n",
    "        except Exception as e:\n",
    "            st.error(f\"❌ Error converting PDF to images: {e}\")\n",
    "            return []\n",
    "\n",
    "    def analyze_medical_text(self, combined_text):\n",
    "        \"\"\"Send text to OpenRouter API for medical analysis\"\"\"\n",
    "        if not self.api_key:\n",
    "            st.error(\"❌ API key not provided.\")\n",
    "            return None\n",
    "\n",
    "        max_chars = 12000\n",
    "        if len(combined_text) > max_chars:\n",
    "            combined_text = combined_text[:max_chars] + \"... [text truncated]\"\n",
    "\n",
    "        prompt = f\"\"\"\n",
    "ACT AS AN EXPERIENCED MEDICAL DOCTOR. Analyze the following medical reports:\n",
    "\n",
    "{combined_text}\n",
    "\n",
    "Provide structured medical analysis including:\n",
    "1. Patient Summary\n",
    "2. Clinical Findings\n",
    "3. Diagnostic Impression\n",
    "4. Critical Concerns\n",
    "5. Treatment Recommendations\n",
    "6. Lifestyle & Preventive Advice\n",
    "7. Health Optimization Plan\n",
    "8. Patient Education\n",
    "\"\"\"\n",
    "\n",
    "        try:\n",
    "            response = requests.post(\n",
    "                url=self.api_url,\n",
    "                headers={\n",
    "                    \"Authorization\": f\"Bearer {self.api_key}\",\n",
    "                    \"Content-Type\": \"application/json\",\n",
    "                },\n",
    "                data=json.dumps({\n",
    "                    \"model\": self.model,\n",
    "                    \"messages\": [\n",
    "                        {\"role\": \"system\", \"content\": \"You are an experienced medical doctor providing diagnostic analysis.\"},\n",
    "                        {\"role\": \"user\", \"content\": prompt}\n",
    "                    ],\n",
    "                    \"temperature\": 0.3,\n",
    "                }),\n",
    "                timeout=60\n",
    "            )\n",
    "\n",
    "            if response.status_code != 200:\n",
    "                st.error(f\"❌ API Error: {response.status_code} - {response.text}\")\n",
    "                return None\n",
    "\n",
    "            result = response.json()\n",
    "            analysis_text = result.get('choices', [{}])[0].get('message', {}).get('content', '')\n",
    "            return analysis_text\n",
    "\n",
    "        except Exception as e:\n",
    "            st.error(f\"❌ Error calling API: {e}\")\n",
    "            return None\n",
    "\n",
    "\n",
    "# =========================\n",
    "# Streamlit App UI\n",
    "# =========================\n",
    "st.set_page_config(page_title=\"Medical OCR & Analysis\", layout=\"wide\")\n",
    "st.title(\"🩺 Medical OCR & AI Analysis\")\n",
    "\n",
    "st.sidebar.header(\"⚙️ Settings\")\n",
    "api_key = st.sidebar.text_input(\"Enter OpenRouter API Key\", type=\"password\")\n",
    "\n",
    "uploaded_files = st.file_uploader(\n",
    "    \"📂 Upload Medical Images or PDFs\",\n",
    "    type=[\"png\", \"jpg\", \"jpeg\", \"tiff\", \"bmp\", \"pdf\"],\n",
    "    accept_multiple_files=True\n",
    ")\n",
    "\n",
    "if uploaded_files and api_key:\n",
    "    processor = MedicalOCRProcessor(api_key)\n",
    "    all_ocr_text = \"\"\n",
    "\n",
    "    for file in uploaded_files:\n",
    "        file_ext = os.path.splitext(file.name)[1].lower()\n",
    "        st.write(f\"📄 Processing: {file.name}\")\n",
    "\n",
    "        if file_ext == \".pdf\":\n",
    "            pdf_bytes = file.read()\n",
    "            pdf_images = processor.pdf_to_images(pdf_bytes)\n",
    "            pdf_text = \"\"\n",
    "            for i, img in enumerate(pdf_images, 1):\n",
    "                ocr_text = pytesseract.image_to_string(img)\n",
    "                pdf_text += f\"\\n--- Page {i} ---\\n{ocr_text}\\n\"\n",
    "            all_ocr_text += f\"\\n--- PDF: {file.name} ---\\n{pdf_text}\\n\"\n",
    "\n",
    "        else:\n",
    "            img = Image.open(file)\n",
    "            ocr_text = pytesseract.image_to_string(img)\n",
    "            all_ocr_text += f\"\\n--- Image: {file.name} ---\\n{ocr_text}\\n\"\n",
    "\n",
    "    if all_ocr_text.strip():\n",
    "        st.subheader(\"📜 Extracted OCR Text\")\n",
    "        st.text_area(\"OCR Output\", all_ocr_text, height=300)\n",
    "\n",
    "        if st.button(\"🔍 Run Medical Analysis\"):\n",
    "            with st.spinner(\"Analyzing medical reports...\"):\n",
    "                analysis = processor.analyze_medical_text(all_ocr_text)\n",
    "                if analysis:\n",
    "                    st.subheader(\"🧾 AI Medical Analysis\")\n",
    "                    st.write(analysis)\n",
    "\n",
    "                    # Save results\n",
    "                    timestamp = datetime.now().strftime(\"%Y%m%d_%H%M%S\")\n",
    "                    json_data = {\n",
    "                        \"analysis\": analysis,\n",
    "                        \"timestamp\": timestamp\n",
    "                    }\n",
    "\n",
    "                    st.download_button(\n",
    "                        label=\"⬇️ Download Analysis (JSON)\",\n",
    "                        data=json.dumps(json_data, indent=2),\n",
    "                        file_name=f\"medical_analysis_{timestamp}.json\",\n",
    "                        mime=\"application/json\"\n",
    "                    )\n",
    "\n",
    "                    st.download_button(\n",
    "                        label=\"⬇️ Download Analysis (TXT)\",\n",
    "                        data=analysis,\n",
    "                        file_name=f\"medical_analysis_{timestamp}.txt\",\n",
    "                        mime=\"text/plain\"\n",
    "                    )\n",
    "\n"
   ]
  },
  {
   "cell_type": "code",
   "execution_count": 2,
   "id": "d130038a",
   "metadata": {},
   "outputs": [
    {
     "name": "stdout",
     "output_type": "stream",
     "text": [
      "It was the best of\n",
      "times, it was the worst\n",
      "of times, it was the age\n",
      "of wisdom, it was the\n",
      "age of foolishness...\n",
      "\n"
     ]
    }
   ],
   "source": [
    "from PIL import Image\n",
    "import pytesseract\n",
    "\n",
    "pytesseract.pytesseract.tesseract_cmd = r\"C:\\Program Files\\Tesseract-OCR\\tesseract.exe\"\n",
    "\n",
    "img = Image.open(\"download.png\")  # replace with an actual image\n",
    "text = pytesseract.image_to_string(img)\n",
    "print(text)\n"
   ]
  },
  {
   "cell_type": "code",
   "execution_count": 3,
   "id": "2d61f919",
   "metadata": {},
   "outputs": [],
   "source": [
    "import pytesseract\n",
    "\n",
    "# Explicit path for Windows\n",
    "pytesseract.pytesseract.tesseract_cmd = r\"C:\\Program Files\\Tesseract-OCR\\tesseract.exe\"\n"
   ]
  },
  {
   "cell_type": "code",
   "execution_count": 4,
   "id": "8aaf54aa",
   "metadata": {},
   "outputs": [],
   "source": [
    "pytesseract.pytesseract.tesseract_cmd = 'C:\\\\Program Files (x86)\\\\Tesseract-OCR\\\\tesseract.exe'\n"
   ]
  },
  {
   "cell_type": "code",
   "execution_count": null,
   "id": "862b3406",
   "metadata": {},
   "outputs": [],
   "source": []
  }
 ],
 "metadata": {
  "kernelspec": {
   "display_name": "base",
   "language": "python",
   "name": "python3"
  },
  "language_info": {
   "codemirror_mode": {
    "name": "ipython",
    "version": 3
   },
   "file_extension": ".py",
   "mimetype": "text/x-python",
   "name": "python",
   "nbconvert_exporter": "python",
   "pygments_lexer": "ipython3",
   "version": "3.13.5"
  }
 },
 "nbformat": 4,
 "nbformat_minor": 5
}
